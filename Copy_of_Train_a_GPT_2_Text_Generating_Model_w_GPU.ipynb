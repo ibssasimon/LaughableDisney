{
  "nbformat": 4,
  "nbformat_minor": 0,
  "metadata": {
    "colab": {
      "name": "Copy of Train a GPT-2 Text-Generating Model w/ GPU",
      "provenance": [],
      "collapsed_sections": [],
      "include_colab_link": true
    },
    "kernelspec": {
      "name": "python3",
      "display_name": "Python 3"
    },
    "accelerator": "GPU"
  },
  "cells": [
    {
      "cell_type": "markdown",
      "metadata": {
        "id": "view-in-github",
        "colab_type": "text"
      },
      "source": [
        "<a href=\"https://colab.research.google.com/github/ibssasimon/LaughableDisney/blob/master/Copy_of_Train_a_GPT_2_Text_Generating_Model_w_GPU.ipynb\" target=\"_parent\"><img src=\"https://colab.research.google.com/assets/colab-badge.svg\" alt=\"Open In Colab\"/></a>"
      ]
    },
    {
      "cell_type": "markdown",
      "metadata": {
        "id": "H7LoMj4GA4n_",
        "colab_type": "text"
      },
      "source": [
        "#  Train a GPT-2 Text-Generating Model w/ GPU For Free \n",
        "\n",
        "by [Max Woolf](http://minimaxir.com)\n",
        "\n",
        "*Last updated: August 28th, 2019*\n",
        "\n",
        "Retrain an advanced text generating neural network on any text dataset **for free on a GPU using Collaboratory** using `gpt-2-simple`!\n",
        "\n",
        "For more about `gpt-2-simple`, you can visit [this GitHub repository](https://github.com/minimaxir/gpt-2-simple).\n",
        "\n",
        "\n",
        "To get started:\n",
        "\n",
        "1. Copy this notebook to your Google Drive to keep it and save your changes. (File -> Save a Copy in Drive)\n",
        "2. Make sure you're running the notebook in Google Chrome.\n",
        "3. Run the cells below:\n"
      ]
    },
    {
      "cell_type": "code",
      "metadata": {
        "id": "KBkpRgBCBS2_",
        "colab_type": "code",
        "outputId": "9d4d9fd1-3e59-4821-edf2-886c940e43e9",
        "colab": {
          "base_uri": "https://localhost:8080/",
          "height": 187
        }
      },
      "source": [
        "!pip install -q gpt-2-simple\n",
        "import gpt_2_simple as gpt2\n",
        "from datetime import datetime\n",
        "from google.colab import files"
      ],
      "execution_count": 3,
      "outputs": [
        {
          "output_type": "stream",
          "text": [
            "\u001b[?25l\r\u001b[K     |▌                               | 10kB 22.5MB/s eta 0:00:01\r\u001b[K     |█                               | 20kB 27.8MB/s eta 0:00:01\r\u001b[K     |█▌                              | 30kB 31.8MB/s eta 0:00:01\r\u001b[K     |██                              | 40kB 3.3MB/s eta 0:00:01\r\u001b[K     |██▌                             | 51kB 4.0MB/s eta 0:00:01\r\u001b[K     |███                             | 61kB 4.7MB/s eta 0:00:01\r\u001b[K     |███▋                            | 71kB 5.4MB/s eta 0:00:01\r\u001b[K     |████                            | 81kB 6.1MB/s eta 0:00:01\r\u001b[K     |████▋                           | 92kB 6.8MB/s eta 0:00:01\r\u001b[K     |█████                           | 102kB 7.4MB/s eta 0:00:01\r\u001b[K     |█████▋                          | 112kB 7.4MB/s eta 0:00:01\r\u001b[K     |██████                          | 122kB 7.4MB/s eta 0:00:01\r\u001b[K     |██████▋                         | 133kB 7.4MB/s eta 0:00:01\r\u001b[K     |███████▏                        | 143kB 7.4MB/s eta 0:00:01\r\u001b[K     |███████▋                        | 153kB 7.4MB/s eta 0:00:01\r\u001b[K     |████████▏                       | 163kB 7.4MB/s eta 0:00:01\r\u001b[K     |████████▋                       | 174kB 7.4MB/s eta 0:00:01\r\u001b[K     |█████████▏                      | 184kB 7.4MB/s eta 0:00:01\r\u001b[K     |█████████▊                      | 194kB 7.4MB/s eta 0:00:01\r\u001b[K     |██████████▏                     | 204kB 7.4MB/s eta 0:00:01\r\u001b[K     |██████████▊                     | 215kB 7.4MB/s eta 0:00:01\r\u001b[K     |███████████▏                    | 225kB 7.4MB/s eta 0:00:01\r\u001b[K     |███████████▊                    | 235kB 7.4MB/s eta 0:00:01\r\u001b[K     |████████████▏                   | 245kB 7.4MB/s eta 0:00:01\r\u001b[K     |████████████▊                   | 256kB 7.4MB/s eta 0:00:01\r\u001b[K     |█████████████▎                  | 266kB 7.4MB/s eta 0:00:01\r\u001b[K     |█████████████▊                  | 276kB 7.4MB/s eta 0:00:01\r\u001b[K     |██████████████▎                 | 286kB 7.4MB/s eta 0:00:01\r\u001b[K     |██████████████▊                 | 296kB 7.4MB/s eta 0:00:01\r\u001b[K     |███████████████▎                | 307kB 7.4MB/s eta 0:00:01\r\u001b[K     |███████████████▊                | 317kB 7.4MB/s eta 0:00:01\r\u001b[K     |████████████████▎               | 327kB 7.4MB/s eta 0:00:01\r\u001b[K     |████████████████▉               | 337kB 7.4MB/s eta 0:00:01\r\u001b[K     |█████████████████▎              | 348kB 7.4MB/s eta 0:00:01\r\u001b[K     |█████████████████▉              | 358kB 7.4MB/s eta 0:00:01\r\u001b[K     |██████████████████▎             | 368kB 7.4MB/s eta 0:00:01\r\u001b[K     |██████████████████▉             | 378kB 7.4MB/s eta 0:00:01\r\u001b[K     |███████████████████▍            | 389kB 7.4MB/s eta 0:00:01\r\u001b[K     |███████████████████▉            | 399kB 7.4MB/s eta 0:00:01\r\u001b[K     |████████████████████▍           | 409kB 7.4MB/s eta 0:00:01\r\u001b[K     |████████████████████▉           | 419kB 7.4MB/s eta 0:00:01\r\u001b[K     |█████████████████████▍          | 430kB 7.4MB/s eta 0:00:01\r\u001b[K     |█████████████████████▉          | 440kB 7.4MB/s eta 0:00:01\r\u001b[K     |██████████████████████▍         | 450kB 7.4MB/s eta 0:00:01\r\u001b[K     |███████████████████████         | 460kB 7.4MB/s eta 0:00:01\r\u001b[K     |███████████████████████▍        | 471kB 7.4MB/s eta 0:00:01\r\u001b[K     |████████████████████████        | 481kB 7.4MB/s eta 0:00:01\r\u001b[K     |████████████████████████▍       | 491kB 7.4MB/s eta 0:00:01\r\u001b[K     |█████████████████████████       | 501kB 7.4MB/s eta 0:00:01\r\u001b[K     |█████████████████████████▌      | 512kB 7.4MB/s eta 0:00:01\r\u001b[K     |██████████████████████████      | 522kB 7.4MB/s eta 0:00:01\r\u001b[K     |██████████████████████████▌     | 532kB 7.4MB/s eta 0:00:01\r\u001b[K     |███████████████████████████     | 542kB 7.4MB/s eta 0:00:01\r\u001b[K     |███████████████████████████▌    | 552kB 7.4MB/s eta 0:00:01\r\u001b[K     |████████████████████████████    | 563kB 7.4MB/s eta 0:00:01\r\u001b[K     |████████████████████████████▌   | 573kB 7.4MB/s eta 0:00:01\r\u001b[K     |█████████████████████████████   | 583kB 7.4MB/s eta 0:00:01\r\u001b[K     |█████████████████████████████▌  | 593kB 7.4MB/s eta 0:00:01\r\u001b[K     |██████████████████████████████  | 604kB 7.4MB/s eta 0:00:01\r\u001b[K     |██████████████████████████████▌ | 614kB 7.4MB/s eta 0:00:01\r\u001b[K     |███████████████████████████████ | 624kB 7.4MB/s eta 0:00:01\r\u001b[K     |███████████████████████████████▌| 634kB 7.4MB/s eta 0:00:01\r\u001b[K     |████████████████████████████████| 645kB 7.4MB/s \n",
            "\u001b[?25h  Building wheel for gpt-2-simple (setup.py) ... \u001b[?25l\u001b[?25hdone\n",
            "WARNING:tensorflow:\n",
            "The TensorFlow contrib module will not be included in TensorFlow 2.0.\n",
            "For more information, please see:\n",
            "  * https://github.com/tensorflow/community/blob/master/rfcs/20180907-contrib-sunset.md\n",
            "  * https://github.com/tensorflow/addons\n",
            "  * https://github.com/tensorflow/io (for I/O related ops)\n",
            "If you depend on functionality not listed there, please file an issue.\n",
            "\n"
          ],
          "name": "stdout"
        }
      ]
    },
    {
      "cell_type": "markdown",
      "metadata": {
        "id": "Bj2IJLHP3KwE",
        "colab_type": "text"
      },
      "source": [
        "## GPU\n",
        "\n",
        "Colaboratory uses either a Nvidia T4 GPU or an Nvidia K80 GPU. The T4 is slightly faster than the old K80 for training GPT-2, and has more memory allowing you to train the larger GPT-2 models and generate more text.\n",
        "\n",
        "You can verify which GPU is active by running the cell below."
      ]
    },
    {
      "cell_type": "code",
      "metadata": {
        "id": "sUmTooTW3osf",
        "colab_type": "code",
        "outputId": "865d7a9c-9519-439d-c998-5442950b7d0c",
        "colab": {
          "base_uri": "https://localhost:8080/",
          "height": 306
        }
      },
      "source": [
        "!nvidia-smi"
      ],
      "execution_count": 4,
      "outputs": [
        {
          "output_type": "stream",
          "text": [
            "Sun Oct 20 16:15:20 2019       \n",
            "+-----------------------------------------------------------------------------+\n",
            "| NVIDIA-SMI 430.40       Driver Version: 418.67       CUDA Version: 10.1     |\n",
            "|-------------------------------+----------------------+----------------------+\n",
            "| GPU  Name        Persistence-M| Bus-Id        Disp.A | Volatile Uncorr. ECC |\n",
            "| Fan  Temp  Perf  Pwr:Usage/Cap|         Memory-Usage | GPU-Util  Compute M. |\n",
            "|===============================+======================+======================|\n",
            "|   0  Tesla K80           Off  | 00000000:00:04.0 Off |                    0 |\n",
            "| N/A   51C    P8    32W / 149W |      0MiB / 11441MiB |      0%      Default |\n",
            "+-------------------------------+----------------------+----------------------+\n",
            "                                                                               \n",
            "+-----------------------------------------------------------------------------+\n",
            "| Processes:                                                       GPU Memory |\n",
            "|  GPU       PID   Type   Process name                             Usage      |\n",
            "|=============================================================================|\n",
            "|  No running processes found                                                 |\n",
            "+-----------------------------------------------------------------------------+\n"
          ],
          "name": "stdout"
        }
      ]
    },
    {
      "cell_type": "markdown",
      "metadata": {
        "id": "0wXB05bPDYxS",
        "colab_type": "text"
      },
      "source": [
        "## Downloading GPT-2\n",
        "\n",
        "If you're retraining a model on new text, you need to download the GPT-2 model first. \n",
        "\n",
        "There are three released sizes of GPT-2:\n",
        "\n",
        "* `124M` (default): the \"small\" model, 500MB on disk.\n",
        "* `355M`: the \"medium\" model, 1.5GB on disk.\n",
        "* `774M`: the \"large\" model, cannot currently be finetuned with Colaboratory but can be used to generate text from the pretrained model (see later in Notebook)\n",
        "\n",
        "Larger models have more knowledge, but take longer to finetune and longer to generate text. You can specify which base model to use by changing `model_name` in the cells below.\n",
        "\n",
        "The next cell downloads it from Google Cloud Storage and saves it in the Colaboratory VM at `/models/<model_name>`.\n",
        "\n",
        "This model isn't permanently saved in the Colaboratory VM; you'll have to redownload it if you want to retrain it at a later time."
      ]
    },
    {
      "cell_type": "code",
      "metadata": {
        "id": "P8wSlgXoDPCR",
        "colab_type": "code",
        "outputId": "aaaf0611-8af9-4cd8-b720-005e28e04565",
        "colab": {
          "base_uri": "https://localhost:8080/",
          "height": 136
        }
      },
      "source": [
        "gpt2.download_gpt2(model_name=\"124M\")"
      ],
      "execution_count": 5,
      "outputs": [
        {
          "output_type": "stream",
          "text": [
            "Fetching checkpoint: 1.05Mit [00:00, 179Mit/s]                                                      \n",
            "Fetching encoder.json: 1.05Mit [00:00, 88.0Mit/s]                                                   \n",
            "Fetching hparams.json: 1.05Mit [00:00, 224Mit/s]                                                    \n",
            "Fetching model.ckpt.data-00000-of-00001: 498Mit [00:02, 184Mit/s]                                   \n",
            "Fetching model.ckpt.index: 1.05Mit [00:00, 195Mit/s]                                                \n",
            "Fetching model.ckpt.meta: 1.05Mit [00:00, 116Mit/s]                                                 \n",
            "Fetching vocab.bpe: 1.05Mit [00:00, 153Mit/s]                                                       \n"
          ],
          "name": "stderr"
        }
      ]
    },
    {
      "cell_type": "markdown",
      "metadata": {
        "id": "N8KXuKWzQSsN",
        "colab_type": "text"
      },
      "source": [
        "## Mounting Google Drive\n",
        "\n",
        "The best way to get input text to-be-trained into the Colaboratory VM, and to get the trained model *out* of Colaboratory, is to route it through Google Drive *first*.\n",
        "\n",
        "Running this cell (which will only work in Colaboratory) will mount your personal Google Drive in the VM, which later cells can use to get data in/out. (it will ask for an auth code; that auth is not saved anywhere)"
      ]
    },
    {
      "cell_type": "code",
      "metadata": {
        "id": "puq4iC6vUAHc",
        "colab_type": "code",
        "outputId": "8c48cc4c-6e6b-4b6b-9d5d-1704e2b4c2db",
        "colab": {
          "base_uri": "https://localhost:8080/",
          "height": 122
        }
      },
      "source": [
        "gpt2.mount_gdrive()"
      ],
      "execution_count": 6,
      "outputs": [
        {
          "output_type": "stream",
          "text": [
            "Go to this URL in a browser: https://accounts.google.com/o/oauth2/auth?client_id=947318989803-6bn6qk8qdgf4n4g3pfee6491hc0brc4i.apps.googleusercontent.com&redirect_uri=urn%3Aietf%3Awg%3Aoauth%3A2.0%3Aoob&scope=email%20https%3A%2F%2Fwww.googleapis.com%2Fauth%2Fdocs.test%20https%3A%2F%2Fwww.googleapis.com%2Fauth%2Fdrive%20https%3A%2F%2Fwww.googleapis.com%2Fauth%2Fdrive.photos.readonly%20https%3A%2F%2Fwww.googleapis.com%2Fauth%2Fpeopleapi.readonly&response_type=code\n",
            "\n",
            "Enter your authorization code:\n",
            "··········\n",
            "Mounted at /content/drive\n"
          ],
          "name": "stdout"
        }
      ]
    },
    {
      "cell_type": "markdown",
      "metadata": {
        "id": "BT__brhBCvJu",
        "colab_type": "text"
      },
      "source": [
        "## Uploading a Text File to be Trained to Colaboratory\n",
        "\n",
        "In the Colaboratory Notebook sidebar on the left of the screen, select *Files*. From there you can upload files:\n",
        "\n",
        "![alt text](https://i.imgur.com/TGcZT4h.png)\n",
        "\n",
        "Upload **any smaller text file**  (<10 MB) and update the file name in the cell below, then run the cell."
      ]
    },
    {
      "cell_type": "code",
      "metadata": {
        "id": "6OFnPCLADfll",
        "colab_type": "code",
        "outputId": "1427e08e-1530-4bf1-8f55-0c6c436681cb",
        "colab": {
          "base_uri": "https://localhost:8080/",
          "height": 35
        }
      },
      "source": [
        "import time\n",
        "\n",
        "run_nam = \"run\" + str(time.time())\n",
        "\n",
        "print(run_nam)\n",
        "\n",
        "file_name = \"billboard_lyrics.txt\""
      ],
      "execution_count": 0,
      "outputs": [
        {
          "output_type": "stream",
          "text": [
            "run1571566040.1607893\n"
          ],
          "name": "stdout"
        }
      ]
    },
    {
      "cell_type": "markdown",
      "metadata": {
        "id": "HeeSKtNWUedE",
        "colab_type": "text"
      },
      "source": [
        "If your text file is larger than 10MB, it is recommended to upload that file to Google Drive first, then copy that file from Google Drive to the Colaboratory VM."
      ]
    },
    {
      "cell_type": "code",
      "metadata": {
        "id": "-Z6okFD8VKtS",
        "colab_type": "code",
        "colab": {}
      },
      "source": [
        "gpt2.copy_file_from_gdrive(file_name)"
      ],
      "execution_count": 0,
      "outputs": []
    },
    {
      "cell_type": "markdown",
      "metadata": {
        "id": "LdpZQXknFNY3",
        "colab_type": "text"
      },
      "source": [
        "## Finetune GPT-2\n",
        "\n",
        "The next cell will start the actual finetuning of GPT-2. It creates a persistent TensorFlow session which stores the training config, then runs the training for the specified number of `steps`. (to have the finetuning run indefinitely, set `steps = -1`)\n",
        "\n",
        "The model checkpoints will be saved in `/checkpoint/run1` by default. The checkpoints are saved every 500 steps (can be changed) and when the cell is stopped.\n",
        "\n",
        "The training might time out after 4ish hours; make sure you end training and save the results so you don't lose them!\n",
        "\n",
        "**IMPORTANT NOTE:** If you want to rerun this cell, **restart the VM first** (Runtime -> Restart Runtime). You will need to rerun imports but not recopy files.\n",
        "\n",
        "Other optional-but-helpful parameters for `gpt2.finetune`:\n",
        "\n",
        "\n",
        "*  **`restore_from`**: Set to `fresh` to start training from the base GPT-2, or set to `latest` to restart training from an existing checkpoint.\n",
        "* **`sample_every`**: Number of steps to print example output\n",
        "* **`print_every`**: Number of steps to print training progress.\n",
        "* **`learning_rate`**:  Learning rate for the training. (default `1e-4`, can lower to `1e-5` if you have <1MB input data)\n",
        "*  **`run_name`**: subfolder within `checkpoint` to save the model. This is useful if you want to work with multiple models (will also need to specify  `run_name` when loading the model)\n",
        "* **`overwrite`**: Set to `True` if you want to continue finetuning an existing model (w/ `restore_from='latest'`) without creating duplicate copies. "
      ]
    },
    {
      "cell_type": "code",
      "metadata": {
        "id": "aeXshJM-Cuaf",
        "colab_type": "code",
        "outputId": "fa47ab46-3c62-421d-aa3a-9e02265fd007",
        "colab": {
          "base_uri": "https://localhost:8080/",
          "height": 1000
        }
      },
      "source": [
        "sess = gpt2.start_tf_sess()\n",
        "\n",
        "gpt2.finetune(sess,\n",
        "              dataset=file_name,\n",
        "              model_name='124M',\n",
        "              steps=1000,\n",
        "              restore_from='fresh',\n",
        "              run_name=run_nam,\n",
        "              print_every=10,\n",
        "              sample_every=200,\n",
        "              save_every=500\n",
        "              )"
      ],
      "execution_count": 7,
      "outputs": [
        {
          "output_type": "stream",
          "text": [
            "WARNING:tensorflow:From /usr/local/lib/python3.6/dist-packages/gpt_2_simple/src/sample.py:17: where (from tensorflow.python.ops.array_ops) is deprecated and will be removed in a future version.\n",
            "Instructions for updating:\n",
            "Use tf.where in 2.0, which has the same broadcast rule as np.where\n",
            "Loading checkpoint models/124M/model.ckpt\n",
            "INFO:tensorflow:Restoring parameters from models/124M/model.ckpt\n"
          ],
          "name": "stdout"
        },
        {
          "output_type": "stream",
          "text": [
            "\r  0%|          | 0/1 [00:00<?, ?it/s]"
          ],
          "name": "stderr"
        },
        {
          "output_type": "stream",
          "text": [
            "Loading dataset...\n"
          ],
          "name": "stdout"
        },
        {
          "output_type": "stream",
          "text": [
            "\r100%|██████████| 1/1 [00:10<00:00, 10.60s/it]\n"
          ],
          "name": "stderr"
        },
        {
          "output_type": "stream",
          "text": [
            "dataset has 1791247 tokens\n",
            "Training...\n",
            "[10 | 52.67] loss=2.78 avg=2.78\n",
            "[20 | 98.24] loss=2.60 avg=2.69\n",
            "[30 | 143.88] loss=2.88 avg=2.75\n",
            "[40 | 189.36] loss=3.08 avg=2.84\n",
            "[50 | 234.88] loss=2.89 avg=2.85\n",
            "[60 | 280.38] loss=2.88 avg=2.85\n",
            "[70 | 325.93] loss=2.57 avg=2.81\n",
            "[80 | 371.43] loss=2.54 avg=2.78\n",
            "[90 | 416.98] loss=2.82 avg=2.78\n",
            "[100 | 462.48] loss=2.67 avg=2.77\n",
            "[110 | 507.97] loss=2.50 avg=2.75\n",
            "[120 | 553.50] loss=3.02 avg=2.77\n",
            "[130 | 598.98] loss=2.81 avg=2.77\n",
            "[140 | 644.47] loss=2.68 avg=2.77\n",
            "[150 | 690.01] loss=2.76 avg=2.76\n",
            "[160 | 735.52] loss=2.68 avg=2.76\n",
            "[170 | 781.00] loss=2.42 avg=2.74\n",
            "[180 | 826.50] loss=2.80 avg=2.74\n",
            "[190 | 872.03] loss=2.68 avg=2.74\n",
            "[200 | 917.50] loss=2.83 avg=2.74\n",
            "======== SAMPLE 1 ========\n",
            " it with the people in the streets aint nothing that youve done to get me crazy cause i wanna be your friend when i get your money baby if its fair im your friend i got to give what to you baby baby i say so baby when i get your money baby babyif you got me high enough when im on the roadi dont want no part no more to start the night i say goodbye youre all the same and theres one thing they say when the door is open cause i want to take you homeyou dont have to worry what i say cause all i ever do is wait and say goodbye to your loving heart baby baby i say so baby when i get your money baby baby babyif you got it good when i get your money baby baby baby baby you got a lot of things to share and baby they say so baby when i get your money baby baby baby baby baby baby baby baby baby baby baby baby baby baby baby baby baby baby baby baby baby baby baby baby baby baby baby baby baby baby baby baby baby baby baby baby baby baby its got to be something good baby baby baby i think about it baby when i get your money baby baby baby baby baby baby baby baby baby baby baby baby baby baby baby baby baby baby baby baby baby baby baby baby baby baby baby baby baby babybaby baby baby baby baby baby baby baby baby babybaby baby baby baby baby baby baby baby baby baby baby baby baby baby baby baby baby baby baby baby baby baby baby baby baby baby baby baby baby\n",
            "i love you so much youre my favorite thing i ever heard about you baby youre my most precious thing baby baby youre my favorite thing baby baby baby babybabybaby baby baby baby baby baby baby baby baby baby baby baby baby baby baby baby baby baby babybaby baby baby baby baby baby baby baby baby baby baby baby baby babybaby baby baby baby baby baby baby baby baby baby baby babybabybabybaby baby baby baby baby baby baby baby baby baby baby baby baby baby baby baby baby baby baby baby baby baby baby baby baby baby baby baby baby babybabybaby baby baby baby baby baby baby baby baby baby baby baby baby baby baby baby baby baby baby baby baby baby baby baby baby baby baby baby baby baby baby baby baby baby baby baby baby baby baby baby baby baby baby baby babybaby baby baby baby baby baby baby baby baby baby baby baby baby baby baby baby baby baby baby baby baby baby baby baby baby baby baby baby baby baby baby baby baby baby baby baby baby baby baby baby baby baby baby baby baby baby baby baby baby baby baby baby baby baby baby baby baby baby baby baby baby baby baby baby baby baby baby baby baby baby baby baby baby baby baby baby baby baby baby baby baby baby baby baby baby baby baby baby baby baby baby baby baby baby baby baby baby baby baby babybaby baby baby baby baby baby baby baby baby baby baby baby baby baby baby baby baby baby baby baby baby baby baby baby baby baby baby baby baby baby baby baby baby baby baby baby baby baby baby baby baby baby baby baby baby baby baby baby baby \n",
            "youll get it from the song i wanna see you in the mirror youll get it from the memory of the past youll get it from the pain of the pastyoull get it from the chorus that you can hear the tears in the back of your mouth youll get it from the beat to the beat of the gospel youll get it from the chorus that you can hear the pain in your eyes the pain of the heart that you carryill get it from the song i wanna see you get it from the song i wanna see you in the mirror youll get it from the song i wanna see you get it from the memory of the past youll get it from the pain of the pastyou will have it if ill ever get it from the song i wanna see you get it from the song i wanna see you get it from the song i wanna see you get it from the song i wanna see you get it from the song i wanna see you get it from the song i wanna see you get it from the song i wanna see you get it from the song i wanna see you get it from the song i wanna see you get it from the song i wanna see you get it from the song i wanna see you get it from the song i wanna see you get it from the song i wanna see you get it from the song i wanna see you get it from the song i wanna see you get it from the song i wanna see you get it from the song i wanna see you get it from the song i wanna see you get it from the song i wanna see you get it from the song i wanna see you get it from the song i wanna see you get it from the song i wanna see you get it from the song i wanna see you got it from the song i wanna see you got it from the song i wanna see you got it from the song i wanna see you got it from the song i gotta see youget it from the chorus that i wanna see you get it from the song i wanna see you get it from the song\n",
            "\n",
            "[210 | 981.27] loss=2.68 avg=2.74\n",
            "[220 | 1026.54] loss=2.74 avg=2.74\n",
            "[230 | 1071.80] loss=2.70 avg=2.74\n",
            "[240 | 1117.09] loss=2.52 avg=2.73\n",
            "[250 | 1162.38] loss=2.84 avg=2.73\n",
            "[260 | 1207.71] loss=3.00 avg=2.75\n",
            "[270 | 1252.99] loss=2.81 avg=2.75\n",
            "[280 | 1298.26] loss=2.66 avg=2.74\n",
            "[290 | 1343.50] loss=2.36 avg=2.73\n",
            "[300 | 1388.64] loss=2.80 avg=2.73\n",
            "[310 | 1434.03] loss=2.92 avg=2.74\n",
            "[320 | 1479.43] loss=2.52 avg=2.73\n",
            "[330 | 1524.81] loss=2.46 avg=2.72\n",
            "[340 | 1570.19] loss=2.82 avg=2.72\n",
            "[350 | 1615.61] loss=2.70 avg=2.72\n",
            "[360 | 1661.00] loss=2.56 avg=2.72\n",
            "[370 | 1706.36] loss=2.72 avg=2.72\n",
            "[380 | 1751.70] loss=2.54 avg=2.71\n",
            "[390 | 1797.08] loss=2.34 avg=2.70\n",
            "[400 | 1842.41] loss=2.43 avg=2.69\n",
            "======== SAMPLE 1 ========\n",
            " that she knows you gotta be a good one and i cant let you down im so sorry im sorry im so sorry but the one i love is back in our house and she said i can be your girl girl and i can be too fine to go out again im so sorry im so sorry im so sorry but its all you know its all you know its all you knowim so sorry im so sorry but the ones you know are back in her world she said you could be my girl that you should know if its true you know its all you knowim so sorry im really sorry but you know its all you know ill never let you down im so sorry im just so sorry but the one i love is back in our house and she said dont take it back in your face i dont know why but the one i love is back in our house and she said im sorry im so sorry im so sorry but the one i love is back in our house and she said im sorry oh im so sorry im so sorry oh im so sorry \n",
            " it was the time when i was younger and it was just the same as it is now it was the day when you met me at the bar and you told me that you loved me ill tell you your story in the kitchen and you told me that you loved me when you met me in junior high but you didnt want me to tell you baby ill tell you that you loved me and you told me that you loved me when you met me in junior high and you took my phone number from junior high but you didnt want me to tell you baby ill tell you baby ill tell you ive seen her a lot but i dont know what she meant to you but its just the same as it is now ill tell you i love her more than you i do its the same as it is now ill tell you that i love her more than you i do you said you were the one because you loved me more you couldnt stop love you said you were the one because you loved me more but then you said you really cared for me that you didnt hate me you thought were the same only they had different ways that you could have loved me but they couldnt have gone through it in your mind cause youre all gone now ill tell you baby ill tell you im so sorry but the one i love is back in our house and she said im sorry im oh im so sorry but the one i love is back in our house and she said im sorry oh im so sorry im just so sorry but the one i love is back in our house and she said im sorry yeah im sorry oh im just so sorry i told you im so sorry im just so sorry but the one i love is back in our house and she said im sorry oh im just so sorry i said its good that you loved me but its just the same as it is now ill tell you ill tell you ill tell you ill tell you baby ill tell you ill tell you ill tell you ill tell you baby ill tell you ill tell you ill tell you ill tell you ill tell you ill tell you ill tell you ill tell you ill tell you yeah ill tell you ill tell you ill tell you ill tell you ill tell you ill tell you ill tell you ill tell you ill tell you ill told you ill told you you told you said you were the one because you loved me more you couldnt stop love you said you were the one because you loved me more you couldnt control you said you were the one because you loved me more you couldnt tell you better lie down lie down lie down you were the one but you were the one im telling you the one ill tell you ill tell you ill tell you ill tell you ill tell you ill tell you ill tell you ill tell you ill tell you ill tell you ill tell you ill told you you told you told you told you you told you told you told you told you told you you told you told you told you told you told you said you said you were the one but you loved me more you couldnt tell you better lie down lie down you were the one but you were the one ill tell you ill tell you ill tell you ill tell you ill tell you ill tell you ill tell you ill tell you said you were the one but you loved me more you couldnt tell you better lie down lie down you were the one but you were the one ill tell you ill tell you ill tell you ill tell you ill tell you ill tell you ill tell you well tell you tell you tell you well tell you ill tell you well tell you you told you told you told you well tell you well tell you ill tell you well tell you well tell you tell you well tell you well tell you ill tell you well tell you well tell you well tell you you told you well tell you said you were the one but you loved me less and less oh how you should have told you said you were the one so you should have told you said you were the one but you cried when we broke up your room was warm you told you the only thing you needed was me well tell\n",
            "\n",
            "[410 | 1904.75] loss=2.67 avg=2.69\n",
            "[420 | 1950.15] loss=2.50 avg=2.69\n",
            "[430 | 1995.51] loss=2.53 avg=2.68\n",
            "[440 | 2040.89] loss=2.70 avg=2.68\n",
            "[450 | 2086.25] loss=2.44 avg=2.68\n",
            "[460 | 2131.58] loss=2.76 avg=2.68\n",
            "[470 | 2176.90] loss=2.61 avg=2.68\n",
            "[480 | 2222.28] loss=2.63 avg=2.68\n",
            "[490 | 2267.64] loss=2.07 avg=2.66\n",
            "[500 | 2312.99] loss=2.60 avg=2.66\n",
            "Saving checkpoint/run1571566040.1607893/model-500\n",
            "[510 | 2361.77] loss=2.84 avg=2.66\n",
            "[520 | 2407.11] loss=2.61 avg=2.66\n",
            "[530 | 2452.47] loss=2.52 avg=2.66\n",
            "[540 | 2497.81] loss=2.51 avg=2.65\n",
            "[550 | 2543.22] loss=2.85 avg=2.66\n",
            "[560 | 2588.63] loss=2.49 avg=2.65\n",
            "[570 | 2633.96] loss=2.54 avg=2.65\n",
            "[580 | 2679.32] loss=2.49 avg=2.65\n",
            "[590 | 2724.62] loss=2.54 avg=2.65\n",
            "[600 | 2770.00] loss=2.32 avg=2.64\n",
            "======== SAMPLE 1 ========\n",
            " but then that aint the same as the kind of love everybody loves and nobody wants to talk about oh but what it takes to turn it into a love song oh baby yeah yeah yeah baby yeah lets go all the way lets go all the way let you stay let you play a part in our love song lets get back in it lets let go back lets go back lets go back lets go back lets go back lets go back lets go back lets go back\n",
            " love is a tool in the hands of the times so dont take the time to turn you are into a brand new breed of man im the kind of love that aint been around aint got no place to be oh baby oh baby baby oh baby girl i cant stay away oh baby oh baby oh baby baby oh baby girl i cant live without love aint the way im gonna do it i cant live without love yeah aint gonna live without love yeah i cant live without love aint gonna live without love i cant live without love uh oh baby i cant live without love aint gotta love aint gotta love aint gotta love\n",
            " i guess i could take another look at you i like where youre at i might as well take another look at youif i could find it i would say this is i wish i would say this is i wish i would say this is i wish i was alive to be alive to be alive i wish i was alive i wish i was alive youre so good to me youre so good to me i wish i was alive oo oo baby baby oh babyoh ooh ooh baby doggo ooh doggo ooh ooh babybaby doggo ooh ooh ooh babyooh come on baby babyoh come on baby baby ooh ooh make it rain and make it come and make it come and make it come and make it baby ooh i dont mean to say i dont mean to say i dont mean to say i dont mean to say i dont mean to say this is i wish i was alive to be alive to be alive i wish i was alive to be alive to be alive i wish i was alive i wish i was alive youre so good to me youre so good to me i wish i was alive oo \n",
            " you make me feel i can always feel it you love me so well and everytime that i think about you baby i love you so welloh everytime that i do it to you you never ever try to tell me that ill be in love i never try to tell you i can never understand my love when you hold my love baby you know how good it feels to be so close to me babywhen i think about you baby i love you so well \n",
            " i dont know why i keep calling you baby but i know youre feeling the sameoh i love you and i wont forget where i belong to oh baby you really just take a shot baby yeahoh i love you and i feel like i should love you baby oh baby now baby just take a shotbaby thats right baby thats right ive been feeling you in the best way and baby i dont want to play games baby baby youre nothing but all my happiness i love love youooh i love you and i cant let you down yeahbaby it goes so wrong i cant take no more of you baby ooh i love youooh i love you baby ooh i dont love youi love you for the life i wanna have baby ooh i dont need you baby baby ooh i love youooh i love you baby ooh i dont know if youll stay ill love you baby ooh i love youim gonna be back for you one more time when youre gone baby baby cause i can only keep you around you and i really cant let you down ooh i love youi dont think at all that youre my girl no more i dont think its worth a mission to love you and i want to know you i need you ooh i love youbaby baby youre nothing but all my happiness i love love you baby ooh i love youoh i dont know why i keep calling you baby you wanna see me love you i dont wanna leave youoh i love you i can never stop i can never take my love baby i cant dont never love you baby ooh i love you baby i dont need you baby ooh i love youbaby baby youre nothing but all my happiness i love love you baby \n",
            " i remember when i was a child i remember when i was a child when i was a child i remember the same way i remember i remember the same way that i remember when i was a child when i was a child i remember when i was a child i remember the same way that i rememberwhen i remember what was there that i would never see i remember the day when were all alone were all alonewere all alone my friendi remember when i was at home just a few years ago all i could do was just reminisceand that was the first dream i ever hadmy memories tell me so much\n",
            "\n",
            "[610 | 2832.78] loss=2.39 avg=2.63\n",
            "[620 | 2878.19] loss=2.42 avg=2.63\n",
            "[630 | 2923.54] loss=2.43 avg=2.62\n",
            "[640 | 2968.87] loss=2.62 avg=2.62\n",
            "[650 | 3014.21] loss=2.68 avg=2.63\n",
            "[660 | 3059.57] loss=2.32 avg=2.62\n",
            "[670 | 3104.96] loss=2.22 avg=2.61\n",
            "[680 | 3150.35] loss=2.56 avg=2.61\n",
            "[690 | 3195.69] loss=2.46 avg=2.61\n",
            "[700 | 3240.99] loss=2.21 avg=2.60\n",
            "[710 | 3286.38] loss=2.59 avg=2.60\n",
            "[720 | 3331.75] loss=2.90 avg=2.60\n",
            "[730 | 3377.09] loss=2.60 avg=2.60\n",
            "[740 | 3422.50] loss=2.34 avg=2.60\n",
            "[750 | 3467.83] loss=2.19 avg=2.59\n",
            "[760 | 3513.25] loss=2.43 avg=2.59\n",
            "[770 | 3558.48] loss=2.21 avg=2.58\n",
            "[780 | 3603.85] loss=2.37 avg=2.58\n",
            "[790 | 3649.17] loss=2.31 avg=2.57\n",
            "[800 | 3694.50] loss=2.51 avg=2.57\n",
            "======== SAMPLE 1 ========\n",
            " n dont say no when the last one gone and you know thats why it aint no wonder i love you baby yeahbaby i dont need an answer just let me show you the way but ill still treat you like the year i met you babyso do if you are ready to go well let me show you baby that what im all about is so unreal so unreal aha and do if you are ready to go please let me show you girl thats what i all about girl girl i see a real boy so girl i see a real boy girl i see a real boy so girl i see a real boy girl its all for sure cause girl this is the time i needyou baby i dont need no answer just let me show you baby youre all there is youre just there is you need me baby this is my love so baby if youre a friend dont take it from me then take it from me youre just there is you dont need no more baby i dont need no other a man dont need no other a girl dont want you to leave me if youre a friend dont take your love from me if youre a frienddo if youre ready to go well let me show you baby that what im all about is so unreal so unreal aha and do if you are ready to go please let me show you girl that what im all about girl girl i see a real boy so girl i see a real boy girl i see a real boy so girl i see a real boyyou know that i love you boy i say you know that i love you boy i say you know that i love you boyi hear things to you boy its easy i know that i love you boy and you dont think that i dont i know thats why boy i would tell you you know that i love you boy im ready to tell you boy i know that i love you boy yeahyou need nobody dont need nobody dont need nobody dont need nobody want you from everywhere no one wont let you go boy want to have someone baby cause youre all there is youre only there baby want to have someone baby girl boyim ready to give my own world girl i give my own world you are only there girl youre only thereyoull only have a thing baby girlyoull only have a thing baby girl youre only there girl youre only there youll only have a thing baby girl boyyou want a girl just a girl just a girl just a girl just a girl just a girl just a girl just a girl just a girlyou need nobody dont need nobody dont need nobody want you from everywhere no one wont let you go boy dont want you hes on his own boy he dont want you dont want to be his his own boy dont want you to be his own boy dont want you to be his own boy dont want you to be his own boy dont want you to be his own boyboy baby baby girl \n",
            " just a little bit of each day i just dont hear a thing cause i just dont know what it is what it is what it isi dont know how to take a good love it takes much too much and then when theyre out of sighti got no feeling i dont know what to do im like a baby cant you see and you never let me goim like a child you know that baby dont play around im like a child i know that baby dont play aroundwhat it is what it is i know how to take a good love it takes much too much and then when their gonna break my heart i just cant help what they doinwhat it is what it is i know how to take a good love it takes much too much and then when their gonna break my heart ill fall in love with you and if you tell me that ill understand its like when the king rides with the king its like the king rides with the kingwhat it is what it is i know how to take a good love it takes much too much and then when their gonna break my heart i just cant help what they doinwhat it is what it is i know how to take a good love it takes much too much and then just when their gonna break my heart ill fall in love with you and if youtell me what it is what it is what it is you know how to take a good love it takes much too much and then when their gonna break my heart ill fall in love with you and if you tell me that ill understand its like im im like a child what it is im like a child you know that baby cant you see and you never let me goi dont feel the right size and no place at the same time i dont want to go im like a baby just a baby cant you see and you never let me goim like a child you know that baby dont play around im like a child dont play aroundwhat it is what it is i know how to take a good love it takes much too much and then when their gonna break my heart i just cant help what they doinwhat it is what it is i know how to take a good love it takes much too much and then\n",
            "\n",
            "[810 | 3757.58] loss=2.39 avg=2.57\n",
            "[820 | 3802.94] loss=2.47 avg=2.57\n",
            "[830 | 3848.30] loss=2.66 avg=2.57\n",
            "[840 | 3893.68] loss=2.18 avg=2.56\n",
            "[850 | 3939.10] loss=2.51 avg=2.56\n",
            "[860 | 3984.55] loss=2.57 avg=2.56\n",
            "[870 | 4029.93] loss=2.62 avg=2.56\n",
            "[880 | 4075.34] loss=2.33 avg=2.56\n",
            "[890 | 4120.77] loss=2.45 avg=2.56\n",
            "[900 | 4166.14] loss=2.39 avg=2.55\n",
            "[910 | 4211.51] loss=2.44 avg=2.55\n",
            "[920 | 4256.97] loss=2.48 avg=2.55\n",
            "[930 | 4302.37] loss=2.26 avg=2.55\n",
            "[940 | 4347.74] loss=2.61 avg=2.55\n",
            "[950 | 4393.09] loss=2.35 avg=2.54\n",
            "[960 | 4438.55] loss=2.36 avg=2.54\n",
            "[970 | 4483.95] loss=2.38 avg=2.54\n",
            "[980 | 4529.35] loss=2.23 avg=2.53\n",
            "[990 | 4574.78] loss=2.41 avg=2.53\n",
            "[1000 | 4620.13] loss=2.22 avg=2.53\n",
            "Saving checkpoint/run1571566040.1607893/model-1000\n",
            "WARNING:tensorflow:From /usr/local/lib/python3.6/dist-packages/tensorflow_core/python/training/saver.py:963: remove_checkpoint (from tensorflow.python.training.checkpoint_management) is deprecated and will be removed in a future version.\n",
            "Instructions for updating:\n",
            "Use standard file APIs to delete files with this prefix.\n"
          ],
          "name": "stdout"
        }
      ]
    },
    {
      "cell_type": "markdown",
      "metadata": {
        "id": "IXSuTNERaw6K",
        "colab_type": "text"
      },
      "source": [
        "After the model is trained, you can copy the checkpoint folder to your own Google Drive.\n",
        "\n",
        "If you want to download it to your personal computer, it's strongly recommended you copy it there first, then download from Google Drive. The checkpoint folder is copied as a `.rar` compressed file; you can download it and uncompress it locally."
      ]
    },
    {
      "cell_type": "code",
      "metadata": {
        "id": "VHdTL8NDbAh3",
        "colab_type": "code",
        "colab": {}
      },
      "source": [
        "gpt2.copy_checkpoint_to_gdrive(run_name=run_nam)"
      ],
      "execution_count": 0,
      "outputs": []
    },
    {
      "cell_type": "markdown",
      "metadata": {
        "id": "qQJgV_b4bmzd",
        "colab_type": "text"
      },
      "source": [
        "You're done! Feel free to go to the **Generate Text From The Trained Model** section to generate text based on your retrained model."
      ]
    },
    {
      "cell_type": "code",
      "metadata": {
        "id": "b_07GiHlm7P7",
        "colab_type": "code",
        "colab": {}
      },
      "source": [
        "# nothing"
      ],
      "execution_count": 0,
      "outputs": []
    },
    {
      "cell_type": "markdown",
      "metadata": {
        "id": "pel-uBULXO2L",
        "colab_type": "text"
      },
      "source": [
        "## Load a Trained Model Checkpoint\n",
        "\n",
        "Running the next cell will copy the `.rar` checkpoint file from your Google Drive into the Colaboratory VM."
      ]
    },
    {
      "cell_type": "code",
      "metadata": {
        "id": "DCcx5u7sbPTD",
        "colab_type": "code",
        "colab": {}
      },
      "source": [
        "gpt2.copy_checkpoint_from_gdrive(run_name=\"run1571566040.1607893\")"
      ],
      "execution_count": 0,
      "outputs": []
    },
    {
      "cell_type": "markdown",
      "metadata": {
        "id": "RTa6zf3e_9gV",
        "colab_type": "text"
      },
      "source": [
        "The next cell will allow you to load the retrained model checkpoint + metadata necessary to generate text.\n",
        "\n",
        "**IMPORTANT NOTE:** If you want to rerun this cell, **restart the VM first** (Runtime -> Restart Runtime). You will need to rerun imports but not recopy files."
      ]
    },
    {
      "cell_type": "code",
      "metadata": {
        "id": "-fxL77nvAMAX",
        "colab_type": "code",
        "colab": {
          "base_uri": "https://localhost:8080/",
          "height": 51
        },
        "outputId": "57d79dea-7c4a-408f-c44f-48db139f929f"
      },
      "source": [
        "sess = gpt2.start_tf_sess()\n",
        "gpt2.load_gpt2(sess, run_name=\"run1571566040.1607893\")"
      ],
      "execution_count": 8,
      "outputs": [
        {
          "output_type": "stream",
          "text": [
            "Loading checkpoint checkpoint/run1571566040.1607893/model-1000\n",
            "INFO:tensorflow:Restoring parameters from checkpoint/run1571566040.1607893/model-1000\n"
          ],
          "name": "stdout"
        }
      ]
    },
    {
      "cell_type": "markdown",
      "metadata": {
        "id": "ClJwpF_ACONp",
        "colab_type": "text"
      },
      "source": [
        "## Generate Text From The Trained Model\n",
        "\n",
        "After you've trained the model or loaded a retrained model from checkpoint, you can now generate text. `generate` generates a single text from the loaded model."
      ]
    },
    {
      "cell_type": "code",
      "metadata": {
        "id": "4RNY6RBI9LmL",
        "colab_type": "code",
        "colab": {
          "base_uri": "https://localhost:8080/",
          "height": 105
        },
        "outputId": "3698800f-90ab-4466-bbd3-c1c17524f1ae"
      },
      "source": [
        "gpt2.generate(sess, run_name=\"run1571566040.1607893\")"
      ],
      "execution_count": 9,
      "outputs": [
        {
          "output_type": "stream",
          "text": [
            "id like it to be your night lady id like to be your night ladyid like it to be your night ladyid like it to be your night ladyid like it to be your night ladyid like it to be your night ladyid like it to be your night ladyid like it to be your night lady \n",
            " ive been in love with you my whole life ive been on the road ive been in love with you all my life ive been on the road ive been in love with you my whole life ive been on the road ive been in love with you my whole life ive been on the road ive been in love with you my whole life ive been on the road ive been in love with you my whole life ive been on the road ive been in love with you my whole life ive been on the road ive been in love with you my whole life ive been on the road ive been in love with you my whole life ive been on the road ive been in love with you my whole life ive been on the road ive been in love with you my whole life ive been on the road ive been in love with you my whole life ive been on the road ive been in love with you my whole life ive been on the road ive been in love with you my whole life ive been on the road ive been in love with you my whole life ive been on the road ive been in love with you my whole life ive been on the road ive been in love with you my whole life ive been on the road ive been in love with you my whole life ive been on the road ive been in love with you my whole life ive been on the road ive been in love with you my whole life ive been on the road ive been in love with you my whole life ive been on the road ive been in love with you my whole life ive been on the road ive been in love with you my whole life ive been on the road ive been in love with you my whole life ive been on the road ive been in love with you my whole life ive been on the road ive been in love with you my whole life ive been on the road ive been in love with you my whole life ive been on the road ive been in love with you my whole life ive been on the road ive been in love with you my whole life ive been on the road ive been in love with you my whole life ive been on the road ive been in love with you my whole life ive been on the road ive been in love with you my whole life ive been on the road ive been in love with you my whole life ive been on the road ive been in love with you my whole life ive been on the road ive been in love with you my whole life ive been on the road ive been in love with you my whole life ive been on the road ive been in love with you my whole life ive been on the road ive been in love with you my whole life ive been on the road ive been in love with you my whole life ive been on the road ive been in love with you my whole life ive been on the road ive been in love with you my whole life ive been on the road ive been in love with you my whole life ive been on the road ive been in love with you my whole life ive been on the road ive been in love with you\n",
            " i dont like the way you move i dont like the way you talk i dont like the way you act i dont like the way you act i dont like the way you talk i dont like the way you talk i dont like the way you talk i dont like the way you talk i dont like the way you talki dont like the way you move i dont like the way you talk i dont like the way you act i dont like the way you talk i dont like the way you talk i dont like the way you talki dont like the way you move i dont like the way you talk i dont like the way you talk i dont like the way you talki dont like the way you move i dont like the way you talk i dont like the way you talk i dont like the way you talki dont like the way you talk i dont like the way you talk i dont like the way you talki dont like the way you move i dont like the way you talk i dont like the way you talki dont like the way you talk i dont like the way you talk \n",
            " girl youve got the kind of love i miss baby youve got the kind of love i miss i got a little something to give you got a little something to give to give to give give to give to give\n"
          ],
          "name": "stdout"
        }
      ]
    },
    {
      "cell_type": "markdown",
      "metadata": {
        "id": "oF4-PqF0Fl7R",
        "colab_type": "text"
      },
      "source": [
        "If you're creating an API based on your model and need to pass the generated text elsewhere, you can do `text = gpt2.generate(sess, return_as_list=True)[0]`\n",
        "\n",
        "You can also pass in a `prefix` to the generate function to force the text to start with a given character sequence and generate text from there (good if you add an indicator when the text starts).\n",
        "\n",
        "You can also generate multiple texts at a time by specifing `nsamples`. Unique to GPT-2, you can pass a `batch_size` to generate multiple samples in parallel, giving a massive speedup (in Colaboratory, set a maximum of 20 for `batch_size`).\n",
        "\n",
        "Other optional-but-helpful parameters for `gpt2.generate` and friends:\n",
        "\n",
        "*  **`length`**: Number of tokens to generate (default 1023, the maximum)\n",
        "* **`temperature`**: The higher the temperature, the crazier the text (default 0.7, recommended to keep between 0.7 and 1.0)\n",
        "* **`top_k`**: Limits the generated guesses to the top *k* guesses (default 0 which disables the behavior; if the generated output is super crazy, you may want to set `top_k=40`)\n",
        "* **`top_p`**: Nucleus sampling: limits the generated guesses to a cumulative probability. (gets good results on a dataset with `top_p=0.9`)\n",
        "* **`truncate`**: Truncates the input text until a given sequence, excluding that sequence (e.g. if `truncate='<|endoftext|>'`, the returned text will include everything before the first `<|endoftext|>`). It may be useful to combine this with a smaller `length` if the input texts are short.\n",
        "*  **`include_prefix`**: If using `truncate` and `include_prefix=False`, the specified `prefix` will not be included in the returned text."
      ]
    },
    {
      "cell_type": "code",
      "metadata": {
        "id": "8DKMc0fiej4N",
        "colab_type": "code",
        "colab": {
          "base_uri": "https://localhost:8080/",
          "height": 275
        },
        "outputId": "d849e7c7-66d0-470e-d18f-6169ec1775ae"
      },
      "source": [
        "gpt2.generate(sess,\n",
        "              length=250,\n",
        "              temperature=0.7,\n",
        "              prefix=\"hey jude\",\n",
        "              nsamples=5,\n",
        "              batch_size=5,\n",
        "              run_name=\"run1571566040.1607893\"\n",
        "              )"
      ],
      "execution_count": 14,
      "outputs": [
        {
          "output_type": "stream",
          "text": [
            "hey jude jones j in a chorus j in a chorus j in a chorus j in a chorus j in a chorus j in a chorus j in a chorus j in a chorus j in a chorus j in a chorus j in a chorus j in a chorus j in a chorus j in a chorus j in a chorus j in a chorus j in a chorus j in a chorus j in a chorus\n",
            " i wanna be your lover girl im gonna make you beg believe me i wanna be your lover girl i wanna be your lover girl the way you kiss me i want you to make me wanna be your lover girl oh oh oh oh oh oh oh yes you do i wanna be your lover girl i wanna be your lover girl youre the one for me i wanna be your lover girl i wanna be your lover girl youre the one for mei wanna be your lover girl im gonna make you beg believe me i wanna be your lover girl i wanna be your lover girl the way you kiss me i want you to make me wanna be your lover girl oh oh oh oh oh oh yes you do i wanna be your lover girl i wanna be your lover girl youre the one for me i wanna be your lover girl i wanna be your lover girl youre the one\n",
            "====================\n",
            "hey jude    see all   see all   this must be a heatwave its getting into your bone you dont wanna leave me alone and what a good time somethings gonna hold you backyou gotta find a way to make it through the darkness and sunshine it usually wont do it you gotta find a way to make it through the darkness and sunshine it usually wont do ityou gotta find a way to make it through the darkness and sunshine it usually wont do it you gotta find a way to make it through the darkness and sunshine it usually wont do ityou gotta find a way to make it through the darkness and sunshine it usually wont do it you gotta find a way to make it through the darkness and sunshine it usually wont do ityou gotta find a way to make it through the darkness and sunshine it usually wont do it you gotta find a way to make it through the darkness and sunshine it usually wont do it you gotta find a way to make it through the darkness and sunshine it usually wont do ityou gotta find a way to make it through the darkness and sunshine it usually wont do it you gotta find a way to make it through the darkness and sunshine it usually wont do ityou gotta find a way to make it through the darkness and\n",
            "====================\n",
            "hey jude hey jude hey jude\n",
            " when i got home from work you could tell from the way she was dancing and the way she laid her hands on me i didnt want her to be gone she was so innocent and so sweet so sweet she was so innocent and so sweet but all of a sudden you came into my life and i had to work you were so innocent and so sweet so sweet you were so innocent and so sweet but all of a sudden you came into my life and i had to work you were so innocent and so sweet so sweet you were so innocent and so sweet but all of a sudden you came into my life and i had to work you were so innocent and so sweet so sweet you were so innocent and so sweet you were so innocent and so sweet\n",
            " humming in the dark i hear the telephone ringing i think about the way you used to laugh and how you used to say goodnight and hurt me in the summertime i hear your voice in my head i know i have to turn around and get back to youi hear your voice in my head i know i have to turn around and i know i have to turn around and i know i have to turn around then youre gone i say to myself i have to turn around\n",
            "====================\n",
            "hey jude im in the club alone and im like oh yeah yeah yeah yeah yeah yeah yeah yeah yeah yeah yeah yeah yeah yeah yeah yeah yeah yeah yeah yeah yeah yeah yeah yeah yeah yeah yeah yeah yeah yeah yeah yeah yeah yeah yeah yeah yeah yeah yeah yeah yeah yeah yeah yeah yeah yeah yeah yeah yeah yeah yeah yeah yeah yeah yeah yeah yeah yeah yeah yeah yeah yeah yeah yeah yeah yeah yeah yeah yeah yeah yeah yeah yeah yeah yeah yeah yeah yeah yeah yeah yeah yeah yeah yeah yeah yeah yeah yeah yeah yeah yeah yeah yeah yeah yeah yeah yeah yeah yeah yeah yeah yeah yeah yeah yeah yeah yeah yeah yeah yeah yeah yeah yeah yeah yeah yeah yeah yeah yeah yeah yeah yeah yeah yeah yeah yeah yeah yeah yeah yeah yeah yeah yeah yeah yeah yeah yeah yeah yeah yeah yeah yeah yeah yeah yeah yeah yeah yeah yeah yeah yeah yeah yeah yeah yeah yeah yeah yeah yeah yeah yeah yeah yeah yeah yeah yeah yeah yeah yeah yeah yeah yeah yeah yeah yeah yeah yeah yeah yeah yeah yeah yeah yeah yeah yeah yeah yeah yeah yeah yeah yeah yeah yeah yeah yeah yeah yeah yeah yeah yeah yeah yeah yeah yeah yeah yeah yeah yeah yeah yeah yeah yeah yeah yeah yeah yeah yeah yeah yeah yeah yeah yeah yeah yeah yeah yeah yeah yeah yeah yeah yeah yeah yeah yeah yeah yeah yeah yeah yeah yeah yeah\n",
            "====================\n",
            "hey jude \n",
            " aint no secret you know how people love you but if you just hold me down and let me take you away i just might go away oh oh oh oh oh oh i dont know why you think that youre acting mad but i just wanna be with you the way i do everyday oh oh oh oh oh oh ohoh oh oh oh oh oh oh oh oh oh oh oh oh oh oh oh oh oh oh oh oh oh oh oh oh oh oh oh oh oh oh oh oh oh oh oh oh oh oh oh oh oh oh oh oh oh oh oh oh oh oh oh oh oh oh oh oh oh oh oh oh oh oh oh oh oh oh oh oh oh oh oh oh oh oh oh oh oh oh oh oh oh oh oh oh oh oh oh oh oh oh oh oh oh oh oh oh oh oh oh oh oh oh oh oh oh oh oh oh oh oh oh oh oh oh oh oh oh oh oh oh oh oh oh oh oh oh oh oh oh oh oh oh oh oh oh oh oh oh oh oh oh oh oh oh oh oh oh oh oh oh oh oh oh oh oh oh oh oh oh oh oh oh oh oh oh oh oh oh oh oh oh oh oh oh oh oh oh oh oh oh oh oh oh\n",
            "====================\n"
          ],
          "name": "stdout"
        }
      ]
    },
    {
      "cell_type": "code",
      "metadata": {
        "id": "6w7hhp6M-gG2",
        "colab_type": "code",
        "colab": {
          "base_uri": "https://localhost:8080/",
          "height": 326
        },
        "outputId": "f91654b8-124f-475a-aab7-13934f247c39"
      },
      "source": [
        "gpt2.generate(sess,\n",
        "              length=250,\n",
        "              temperature=0.7,\n",
        "              prefix=\"The\",\n",
        "              nsamples=5,\n",
        "              batch_size=5,\n",
        "              run_name=\"run1571566040.1607893\"\n",
        "              )"
      ],
      "execution_count": 21,
      "outputs": [
        {
          "output_type": "stream",
          "text": [
            "The girl that i love shes so sweet and kind and she loves me so sweet and sweet and she loves me so sweet to me she knows how to make me feel my love and she knows how to make me crazy in my sleep i know how to make you feel my love and i know how to make you feel my love and i know how to make you feel my love and i know how to make you feel my love i know how to make you feel my love i know how to make you feel my love i know how to make you feel my love i know how to make you feel my love i know how to make you feel my love i know how to make you feel my love i know how to make you feel my love i know how to make you feel my love i know how to make you feel my love i know how to make you feel my love i know how to make you feel my love i know how to make you feel my love i know how to make you feel my love i know how to make you feel my love i know how to make you feel my love i know how to make you feel my love i know how to make you feel my love i know how to make you feel my love i know how\n",
            "====================\n",
            "The reason for the light is because of you babe youre the one that makes me feel so alive yeah yeah yeah yeah yeah yeah yeah yeah yeah yeah yeah yeah yeah yeah yeah yeah yeah yeah yeah yeah yeah yeah yeah yeah yeah yeah yeah yeah yeah yeah yeah yeah yeah yeah yeah yeah yeah yeah yeah yeah yeah yeah yeah yeah yeah yeah yeah yeah yeah yeah yeah yeah yeah yeah yeah yeah yeah yeah yeah yeah yeah yeah yeah yeah yeah yeah yeah yeah yeah yeah yeah yeah yeah yeah yeah yeah yeah yeah yeah yeah yeah yeah yeah yeah yeah yeah yeah yeah yeah yeah yeah yeah yeah yeah yeah yeah yeah yeah yeah yeah yeah yeah yeah yeah yeah yeah yeah yeah yeah yeah yeah yeah yeah yeah yeah yeah yeah yeah yeah yeah yeah yeah yeah yeah yeah yeah yeah yeah yeah yeah yeah yeah yeah yeah yeah yeah yeah yeah yeah yeah yeah yeah yeah yeah yeah yeah yeah yeah yeah yeah yeah yeah yeah yeah yeah yeah yeah yeah yeah yeah yeah yeah yeah yeah yeah yeah yeah yeah yeah yeah yeah yeah yeah yeah yeah yeah yeah yeah\n",
            " aye aye aye aye aye aye jazza aye aye aye aye aye aye aye aye aye aye aye aye aye aye aye    see all   i\n",
            "====================\n",
            "The way she moves you know you can tell she loves you right no matter what you say you know you can tell she loves you right no matter what you say you know you can tell she loves you right\n",
            " we were always meant to be you know i love you i know i cant give it up you say you can make it but it doesnt feel that good you dont know how you get to me i dont know how to feel how can we get back on our feet well be in love again weve been this way all this time well be together again well be together again baby you and me theres never been the same i know you want me i know you want me too but you always seem to turn your back and we always seem to be on our own you know i dont know how to feel how can we get back on our feet well be together again weve been this way all this time well be together again well be together again ill be right back with you hey hey hey hey hey hey hey hey hey hey hey hey hey hey hey hey hey hey hey hey hey hey hey hey hey hey hey hey hey hey hey hey hey hey hey hey hey hey \n",
            " sweet dreams come true for me when i look into the sky and i see you\n",
            "====================\n",
            "The lady in the corner is a danger to herself to herself to herself and shes doing the same to herself and her own people she is doing the same to herself and her own people she is doing the same to herself and her own people she is doing the same to herself and her own people she is doing the same to herself and her own people she is doing the same to herself and her own people she is doing the same to herself and her own people she is doing the same to herself and her own people she is doing the same to herself and her own people she is doing the same to herself and her own people\n",
            " i am beggin you to keep your love on my lonely lonely lonely oh yes i am beggin you to keep your love on my lonely lonely oh no i am beggin you to keep your love on my lonely lonely oh no i am beggin you to keep your love on my lonely lonely oh no i am beggin you to keep your love on my lonely lonely oh no i am beggin you to keep your love on my lonely lonely oh no i am beggin you to keep your love on my lonely lonely oh no i am beggin you to keep your love on my lonely lonely oh no i am beggin\n",
            "====================\n",
            "The police are looking for the man in the blue jeans that went missing on a flight from london to austin a four wheel drive van is believed to have been hijacked\n",
            " goin down the road goin down the road where my homies at goin down the road goin down the road where my homies at\n",
            " i was born in london theres no place to go i could have been a real g 691 12319 i was born in london theres no place to go i could have been a real g 691 12319 i was born in london theres no place to go i could have been a real g 691 12319 i was born in london theres no place to go i could have been a real g 691 12319 i was born in london theres no place to go i could have been a real g 691 12319 \n",
            " how can you be so blind when your eyes are open see all your dreams come true you think the world is just one big dream but youre not the only one and youve got to realize how real you can behow can you be so blind when your eyes are open see all your dreams come true you think the world is just one\n",
            "====================\n"
          ],
          "name": "stdout"
        }
      ]
    },
    {
      "cell_type": "markdown",
      "metadata": {
        "id": "zjjEN2Tafhl2",
        "colab_type": "text"
      },
      "source": [
        "For bulk generation, you can generate a large amount of text to a file and sort out the samples locally on your computer. The next cell will generate a generated text file with a unique timestamp.\n",
        "\n",
        "You can rerun the cells as many times as you want for even more generated texts!"
      ]
    },
    {
      "cell_type": "code",
      "metadata": {
        "id": "Fa6p6arifSL0",
        "colab_type": "code",
        "colab": {}
      },
      "source": [
        "gen_file = 'gpt2_gentext_{:%Y%m%d_%H%M%S}.txt'.format(datetime.utcnow())\n",
        "\n",
        "gpt2.generate_to_file(sess,\n",
        "                      destination_path=gen_file,\n",
        "                      length=500,\n",
        "                      temperature=0.7,\n",
        "                      nsamples=100,\n",
        "                      batch_size=20\n",
        "                      )"
      ],
      "execution_count": 0,
      "outputs": []
    },
    {
      "cell_type": "code",
      "metadata": {
        "id": "0-LRex8lfv1g",
        "colab_type": "code",
        "colab": {}
      },
      "source": [
        "# may have to run twice to get file to download\n",
        "files.download(gen_file)"
      ],
      "execution_count": 0,
      "outputs": []
    },
    {
      "cell_type": "markdown",
      "metadata": {
        "id": "QQAN3M6RT7Kj",
        "colab_type": "text"
      },
      "source": [
        "## Generate Text From The Pretrained Model\n",
        "\n",
        "If you want to generate text from the pretrained model, not a finetuned model, pass `model_name` to `gpt2.load_gpt2()` and `gpt2.generate()`.\n",
        "\n",
        "This is currently the only way to generate text from the 774M \"large\" model."
      ]
    },
    {
      "cell_type": "code",
      "metadata": {
        "id": "hsUd_jHgUZnD",
        "colab_type": "code",
        "colab": {}
      },
      "source": [
        "model_name = \"774M\"\n",
        "\n",
        "gpt2.download_gpt2(model_name=model_name)"
      ],
      "execution_count": 0,
      "outputs": []
    },
    {
      "cell_type": "code",
      "metadata": {
        "id": "BAe4NpKNUj2C",
        "colab_type": "code",
        "colab": {}
      },
      "source": [
        "sess = gpt2.start_tf_sess()\n",
        "\n",
        "gpt2.load_gpt2(sess, model_name=model_name)"
      ],
      "execution_count": 0,
      "outputs": []
    },
    {
      "cell_type": "code",
      "metadata": {
        "id": "-xInIZKaU104",
        "colab_type": "code",
        "colab": {}
      },
      "source": [
        "gpt2.generate(sess,\n",
        "              model_name=model_name,\n",
        "              prefix=\"The secret of life is\",\n",
        "              length=100,\n",
        "              temperature=0.7,\n",
        "              top_p=0.9,\n",
        "              nsamples=5,\n",
        "              batch_size=5\n",
        "              )"
      ],
      "execution_count": 0,
      "outputs": []
    },
    {
      "cell_type": "markdown",
      "metadata": {
        "id": "ig-KVgkCDCKD",
        "colab_type": "text"
      },
      "source": [
        "# Etcetera\n",
        "\n",
        "If the notebook has errors (e.g. GPU Sync Fail), force-kill the Colaboratory virtual machine and restart it with the command below:"
      ]
    },
    {
      "cell_type": "code",
      "metadata": {
        "id": "rIHiVP53FnsX",
        "colab_type": "code",
        "colab": {}
      },
      "source": [
        "!kill -9 -1"
      ],
      "execution_count": 0,
      "outputs": []
    },
    {
      "cell_type": "markdown",
      "metadata": {
        "id": "wmTXWNUygS5E",
        "colab_type": "text"
      },
      "source": [
        "# LICENSE\n",
        "\n",
        "MIT License\n",
        "\n",
        "Copyright (c) 2019 Max Woolf\n",
        "\n",
        "Permission is hereby granted, free of charge, to any person obtaining a copy\n",
        "of this software and associated documentation files (the \"Software\"), to deal\n",
        "in the Software without restriction, including without limitation the rights\n",
        "to use, copy, modify, merge, publish, distribute, sublicense, and/or sell\n",
        "copies of the Software, and to permit persons to whom the Software is\n",
        "furnished to do so, subject to the following conditions:\n",
        "\n",
        "The above copyright notice and this permission notice shall be included in all\n",
        "copies or substantial portions of the Software.\n",
        "\n",
        "THE SOFTWARE IS PROVIDED \"AS IS\", WITHOUT WARRANTY OF ANY KIND, EXPRESS OR\n",
        "IMPLIED, INCLUDING BUT NOT LIMITED TO THE WARRANTIES OF MERCHANTABILITY,\n",
        "FITNESS FOR A PARTICULAR PURPOSE AND NONINFRINGEMENT. IN NO EVENT SHALL THE\n",
        "AUTHORS OR COPYRIGHT HOLDERS BE LIABLE FOR ANY CLAIM, DAMAGES OR OTHER\n",
        "LIABILITY, WHETHER IN AN ACTION OF CONTRACT, TORT OR OTHERWISE, ARISING FROM,\n",
        "OUT OF OR IN CONNECTION WITH THE SOFTWARE OR THE USE OR OTHER DEALINGS IN THE\n",
        "SOFTWARE."
      ]
    }
  ]
}